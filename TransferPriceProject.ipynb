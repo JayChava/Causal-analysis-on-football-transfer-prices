{
 "cells": [
  {
   "cell_type": "code",
   "execution_count": 1,
   "metadata": {},
   "outputs": [],
   "source": [
    "%load_ext RWinOut"
   ]
  },
  {
   "cell_type": "code",
   "execution_count": 2,
   "metadata": {},
   "outputs": [],
   "source": [
    "%%R\n",
    "\n",
    "library(bnlearn)"
   ]
  },
  {
   "cell_type": "code",
   "execution_count": 3,
   "metadata": {},
   "outputs": [
    {
     "name": "stdout",
     "output_type": "stream",
     "text": [
      "\n",
      "  Random/Generated Bayesian network\n",
      "\n",
      "  model:\n",
      "   [A][A_L_C][N][O_L_C][Po][Y][A_L|A_L_C][O_L|O_L_C][Ov_S|Po][Prv_S|Po][A_C|A_L]\n",
      "   [O_C|O_L][T|A:A_C:N:O_C:Ov_S:Po:Prv_S:Y]\n",
      "  nodes:                                 13 \n",
      "  arcs:                                  14 \n",
      "    undirected arcs:                     0 \n",
      "    directed arcs:                       14 \n",
      "  average markov blanket size:           6.15 \n",
      "  average neighbourhood size:            2.15 \n",
      "  average branching factor:              1.08 \n",
      "\n",
      "  generation algorithm:                  Empty \n",
      "\n"
     ]
    }
   ],
   "source": [
    "%%R\n",
    "\n",
    "# Assumptions\n",
    "\n",
    "# A = Age\n",
    "# N = Nationality\n",
    "# Po = Position (Preferred/Most frequent)\n",
    "# O_C = Origin Club\n",
    "# O_L = Origin League\n",
    "# O_L_C = Origin League Country\n",
    "# A_C = Arrival Club\n",
    "# A_L = Arrival League\n",
    "# A_L_C = Arrival League Country\n",
    "# Ov_S = Overall_Stats\n",
    "# Prv_S = Previous_Season_Stats\n",
    "# Y = Year\n",
    "# T = Transfer Price\n",
    "\n",
    "dag <- model2network(\"[A][N][Po][Ov_S|Po][Prv_S|Po][O_C|O_L][A_C|A_L][O_L|O_L_C][O_L_C][A_L|A_L_C][A_L_C][Y][T|A:N:Po:Ov_S:Prv_S:O_C:A_C:Y]\")\n",
    "dag"
   ]
  },
  {
   "cell_type": "code",
   "execution_count": 4,
   "metadata": {},
   "outputs": [
    {
     "data": {
      "image/png": "[encoded data removed]"
     },
     "metadata": {},
     "output_type": "display_data"
    }
   ],
   "source": [
    "%%R\n",
    "\n",
    "graphviz.plot(dag)"
   ]
  },
  {
   "cell_type": "code",
   "execution_count": 5,
   "metadata": {},
   "outputs": [],
   "source": [
    "#imports\n",
    "\n",
    "from statistics import mean\n",
    "import torch\n",
    "import numpy as np\n",
    "import pyro\n",
    "import pyro.distributions as dist\n",
    "from pyro.infer import Importance, EmpiricalMarginal\n",
    "import matplotlib.pyplot as plt\n",
    "%matplotlib inline\n",
    "\n",
    "pyro.set_rng_seed(101)"
   ]
  },
  {
   "cell_type": "code",
   "execution_count": null,
   "metadata": {},
   "outputs": [],
   "source": [
    "#Transfer the bnlearn model to Pyro\n",
    "\n",
    "# A = Age                          A_alias = ['Under23','Under30','Above30']\n",
    "# N = Nationality                  N_alias = ['A','B','C','D'] (Either by world rankings or Star Ratings from FIFA)\n",
    "# Po = Position                    Po_alias = ['GK','CentreBack','FullBack','CentreMid','Winger','ST']\n",
    "# O_C = Origin Club                OC__alias = []\n",
    "# O_L = Origin League              OL_alias = ['1','2','3','4'] (League levels in respective countries)\n",
    "# O_L_C = Origin League Country    OLC_alias = ['A','B','C','D'] (Either by world rankings or Star Ratings from FIFA)\n",
    "# A_C = Arrival Club               AC__alias = []\n",
    "# A_L = Arrival League             AL_alias = ['1','2','3','4'] (League levels in respective countries)\n",
    "# A_L_C = Arrival League Country   ALC_alias = ['A','B','C','D'] (Either by world rankings or Star Ratings from FIFA)\n",
    "# Ov_S = Overall_Stats             OvS__alias = []\n",
    "# Prv_S = Previous_Season_Stats    PrvS_alias = []\n",
    "# Y = Year                         Y_alias = []\n",
    "# T = Transfer Price               T_alias = []\n",
    "\n",
    "A_alias = ['U23','U30','A30']\n",
    "N_alias = ['A','B','C','D']\n",
    "Po_alias = ['GK','CB','FB','CM','W','ST']\n",
    "OC__alias = []\n",
    "OL_alias = ['1','2','3','4']\n",
    "OLC_alias = ['A','B','C','D']\n",
    "AC__alias = []\n",
    "AL_alias = ['1','2','3','4']\n",
    "ALC_alias = ['A','B','C','D']\n",
    "OvS__alias = []\n",
    "PrvS_alias = []\n",
    "Y_alias = []\n",
    "T_alias = []\n",
    "\n",
    "A_prob = []\n",
    "N_prob = []\n",
    "Po_prob = []\n",
    "OC__prob = []\n",
    "OL_prob = []\n",
    "OLC_prob = []\n",
    "AC__prob = []\n",
    "AL_prob = []\n",
    "ALC_prob = []\n",
    "OvS__prob = []\n",
    "PrvS_prob = []\n",
    "Y_prob = []\n",
    "T_prob = []\n",
    "\n",
    "\n",
    "\n",
    "def model():\n",
    "    \n",
    "    A = pyro.sample(\"A\", dist.Categorical(probs=A_prob))\n",
    "    N = pyro.sample(\"N\", dist.Categorical(probs=N_prob))\n",
    "    OLC = pyro.sample(\"OLC\", dist.Categorical(probs=OLC_prob))\n",
    "    OL = pyro.sample(\"OL\", dist.Categorical(probs=OL_prob[OLC]))\n",
    "    OC = pyro.sample(\"OC\", dist.Categorical(probs=OC_prob[OL]))\n",
    "    ALC = pyro.sample(\"ALC\", dist.Categorical(probs=ALC_prob))\n",
    "    AL = pyro.sample(\"AL\", dist.Categorical(probs=AL_prob[ALC]))\n",
    "    AC = pyro.sample(\"AC\", dist.Categorical(probs=AC_prob[AL]))\n",
    "    Po = pyro.sample(\"Po\", dist.Categorical(probs=Po_prob))\n",
    "    OvS = pyro.sample(\"OvS\", dist.Categorical(probs=OvS_prob[Po]))\n",
    "    PrvS = pyro.sample(\"PrvS\", dist.Categorical(probs=PrvS_prob[Po]))\n",
    "    Y = pyro.sample(\"Y\", dist.Categorical(probs=Y_prob))\n",
    "    T = pyro.sample(\"T\", dist.Categorical(probs=T_prob[Y][OvS][PrvS][Po][AC][OC][A][N]))\n",
    "    \n",
    "    return{'A': A,'N': N,'OLC': OLC,'OL': OL,'OC': OC, 'ALC': ALC, 'AL': AL, 'AC': AC, \n",
    "           'Po': Po, 'OvS': OvS, 'PrvS': PrvS, 'Y': Y, 'T': T}\n",
    "\n",
    "print(model())\n"
   ]
  }
 ],
 "metadata": {
  "kernelspec": {
   "display_name": "Python 3",
   "language": "python",
   "name": "python3"
  },
  "language_info": {
   "codemirror_mode": {
    "name": "ipython",
    "version": 3
   },
   "file_extension": ".py",
   "mimetype": "text/x-python",
   "name": "python",
   "nbconvert_exporter": "python",
   "pygments_lexer": "ipython3",
   "version": "3.7.1"
  }
 },
 "nbformat": 4,
 "nbformat_minor": 2
}
