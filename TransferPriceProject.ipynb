{
 "cells": [
  {
   "cell_type": "code",
   "execution_count": 4,
   "metadata": {},
   "outputs": [
    {
     "name": "stdout",
     "output_type": "stream",
     "text": [
      "The RWinOut extension is already loaded. To reload it, use:\n",
      "  %reload_ext RWinOut\n"
     ]
    }
   ],
   "source": [
    "%load_ext RWinOut"
   ]
  },
  {
   "cell_type": "code",
   "execution_count": 8,
   "metadata": {},
   "outputs": [],
   "source": [
    "%%R\n",
    "\n",
    "library(bnlearn)"
   ]
  },
  {
   "cell_type": "code",
   "execution_count": 26,
   "metadata": {},
   "outputs": [
    {
     "name": "stdout",
     "output_type": "stream",
     "text": [
      "\n",
      "  Random/Generated Bayesian network\n",
      "\n",
      "  model:\n",
      "   [A][A_L_C][N][O_L_C][Po][Y][A_L|A_L_C][O_L|O_L_C][S|Po][A_C|A_L][O_C|O_L]\n",
      "   [P|A:A_C:N:O_C:Po:Y][T|A_C:A_L:A_L_C:N:O_C:O_L:O_L_C:P:Po:S:Y]\n",
      "  nodes:                                 13 \n",
      "  arcs:                                  22 \n",
      "    undirected arcs:                     0 \n",
      "    directed arcs:                       22 \n",
      "  average markov blanket size:           11.08 \n",
      "  average neighbourhood size:            3.38 \n",
      "  average branching factor:              1.69 \n",
      "\n",
      "  generation algorithm:                  Empty \n",
      "\n"
     ]
    }
   ],
   "source": [
    "%%R\n",
    "\n",
    "# Assumptions\n",
    "\n",
    "# P = Player Name\n",
    "# A = Age\n",
    "# N = Nationality\n",
    "# Po = Position\n",
    "# O_C = Origin Club\n",
    "# A_C = Arrival Club\n",
    "# O_L = Origin League\n",
    "# O_L_C = Origin League Country\n",
    "# A_L = Arrival League\n",
    "# A_L_C = Arrival League Country\n",
    "# Y = Year\n",
    "# S = Stats\n",
    "# T = Transfer Price\n",
    "\n",
    "dag <- model2network(\"[P|N:A:Po:O_C:A_C:Y][A][N][Po][S|Po][O_C|O_L][A_C|A_L][O_L|O_L_C][O_L_C][A_L|A_L_C][A_L_C][Y][T|P:N:Po:S:O_C:A_C:O_L:O_L_C:A_L:A_L_C:Y]\")\n",
    "dag"
   ]
  },
  {
   "cell_type": "code",
   "execution_count": 27,
   "metadata": {},
   "outputs": [
    {
     "data": {
      "image/png": "[encoded data removed]"
     },
     "metadata": {},
     "output_type": "display_data"
    }
   ],
   "source": [
    "%%R\n",
    "\n",
    "graphviz.plot(dag)"
   ]
  },
  {
   "cell_type": "code",
   "execution_count": null,
   "metadata": {},
   "outputs": [],
   "source": []
  }
 ],
 "metadata": {
  "kernelspec": {
   "display_name": "Python 3",
   "language": "python",
   "name": "python3"
  },
  "language_info": {
   "codemirror_mode": {
    "name": "ipython",
    "version": 3
   },
   "file_extension": ".py",
   "mimetype": "text/x-python",
   "name": "python",
   "nbconvert_exporter": "python",
   "pygments_lexer": "ipython3",
   "version": "3.7.1"
  }
 },
 "nbformat": 4,
 "nbformat_minor": 2
}
