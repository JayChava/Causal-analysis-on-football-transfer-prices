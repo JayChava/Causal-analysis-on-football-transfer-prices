{
 "cells": [
  {
   "cell_type": "code",
   "execution_count": 1,
   "metadata": {},
   "outputs": [],
   "source": [
    "%load_ext RWinOut"
   ]
  },
  {
   "cell_type": "code",
   "execution_count": 2,
   "metadata": {},
   "outputs": [],
   "source": [
    "%%R\n",
    "\n",
    "library(bnlearn)"
   ]
  },
  {
   "cell_type": "code",
   "execution_count": 7,
   "metadata": {},
   "outputs": [
    {
     "name": "stdout",
     "output_type": "stream",
     "text": [
      "\n",
      "  Random/Generated Bayesian network\n",
      "\n",
      "  model:\n",
      "   [A][A_L_C][N][O_L_C][Po][Y][A_L|A_L_C][O_L|O_L_C][Ov_S|Po][Prv_S|Po][A_C|A_L]\n",
      "   [O_C|O_L][T|A:A_C:A_L:A_L_C:N:O_C:O_L:O_L_C:Ov_S:Po:Prv_S:Y]\n",
      "  nodes:                                 13 \n",
      "  arcs:                                  18 \n",
      "    undirected arcs:                     0 \n",
      "    directed arcs:                       18 \n",
      "  average markov blanket size:           12.00 \n",
      "  average neighbourhood size:            2.77 \n",
      "  average branching factor:              1.38 \n",
      "\n",
      "  generation algorithm:                  Empty \n",
      "\n"
     ]
    }
   ],
   "source": [
    "%%R\n",
    "\n",
    "# Assumptions\n",
    "\n",
    "# A = Age\n",
    "# N = Nationality\n",
    "# Po = Position\n",
    "# O_C = Origin Club\n",
    "# O_L = Origin League\n",
    "# O_L_C = Origin League Country\n",
    "# A_C = Arrival Club\n",
    "# A_L = Arrival League\n",
    "# A_L_C = Arrival League Country\n",
    "# Ov_S = Overall_Stats\n",
    "# Prv_S = Previous_Season_Stats\n",
    "# Y = Year\n",
    "# T = Transfer Price\n",
    "\n",
    "dag <- model2network(\"[A][N][Po][Ov_S|Po][Prv_S|Po][O_C|O_L][A_C|A_L][O_L|O_L_C][O_L_C][A_L|A_L_C][A_L_C][Y][T|A:N:Po:Ov_S:Prv_S:O_C:A_C:O_L:O_L_C:A_L:A_L_C:Y]\")\n",
    "dag"
   ]
  },
  {
   "cell_type": "code",
   "execution_count": 8,
   "metadata": {},
   "outputs": [
    {
     "data": {
      "image/png": "[encoded data removed]"
     },
     "metadata": {},
     "output_type": "display_data"
    }
   ],
   "source": [
    "%%R\n",
    "\n",
    "graphviz.plot(dag)"
   ]
  },
  {
   "cell_type": "code",
   "execution_count": null,
   "metadata": {},
   "outputs": [],
   "source": []
  }
 ],
 "metadata": {
  "kernelspec": {
   "display_name": "Python 3",
   "language": "python",
   "name": "python3"
  },
  "language_info": {
   "codemirror_mode": {
    "name": "ipython",
    "version": 3
   },
   "file_extension": ".py",
   "mimetype": "text/x-python",
   "name": "python",
   "nbconvert_exporter": "python",
   "pygments_lexer": "ipython3",
   "version": "3.7.1"
  }
 },
 "nbformat": 4,
 "nbformat_minor": 2
}
