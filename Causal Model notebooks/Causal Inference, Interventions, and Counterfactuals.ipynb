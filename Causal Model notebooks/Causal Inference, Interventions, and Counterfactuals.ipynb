{
 "cells": [
  {
   "cell_type": "markdown",
   "metadata": {},
   "source": [
    "## Pgmpy"
   ]
  },
  {
   "cell_type": "code",
   "execution_count": 1,
   "metadata": {},
   "outputs": [],
   "source": [
    "import random\n",
    "import pandas as pd\n",
    "from pgmpy.models import BayesianModel\n",
    "from pgmpy.estimators import BayesianEstimator\n",
    "import networkx as nx\n",
    "import pylab as plt"
   ]
  },
  {
   "cell_type": "code",
   "execution_count": 2,
   "metadata": {},
   "outputs": [],
   "source": [
    "random.seed(42)"
   ]
  },
  {
   "cell_type": "code",
   "execution_count": 68,
   "metadata": {},
   "outputs": [
    {
     "data": {
      "text/html": [
       "<div>\n",
       "<style scoped>\n",
       "    .dataframe tbody tr th:only-of-type {\n",
       "        vertical-align: middle;\n",
       "    }\n",
       "\n",
       "    .dataframe tbody tr th {\n",
       "        vertical-align: top;\n",
       "    }\n",
       "\n",
       "    .dataframe thead th {\n",
       "        text-align: right;\n",
       "    }\n",
       "</style>\n",
       "<table border=\"1\" class=\"dataframe\">\n",
       "  <thead>\n",
       "    <tr style=\"text-align: right;\">\n",
       "      <th></th>\n",
       "      <th>Unnamed: 0</th>\n",
       "      <th>ID</th>\n",
       "      <th>arrival_league</th>\n",
       "      <th>year</th>\n",
       "      <th>origin_league</th>\n",
       "      <th>grouping_position</th>\n",
       "      <th>arrival_club_tier</th>\n",
       "      <th>origin_club_tier</th>\n",
       "      <th>age_grouping_1</th>\n",
       "      <th>age_grouping_2</th>\n",
       "      <th>transfer_price_group1</th>\n",
       "      <th>transfer_price_group2</th>\n",
       "      <th>potential_fifa</th>\n",
       "      <th>overall_fifa</th>\n",
       "      <th>new_height</th>\n",
       "      <th>appearances</th>\n",
       "      <th>goals</th>\n",
       "      <th>N</th>\n",
       "    </tr>\n",
       "  </thead>\n",
       "  <tbody>\n",
       "    <tr>\n",
       "      <th>0</th>\n",
       "      <td>0</td>\n",
       "      <td>1913</td>\n",
       "      <td>Premier League</td>\n",
       "      <td>Before2016</td>\n",
       "      <td>Ligue 1</td>\n",
       "      <td>D</td>\n",
       "      <td>Tier_2</td>\n",
       "      <td>Tier_1</td>\n",
       "      <td>U25</td>\n",
       "      <td>Under30</td>\n",
       "      <td>10Mto5M</td>\n",
       "      <td>20Mto5M</td>\n",
       "      <td>85above</td>\n",
       "      <td>75to84</td>\n",
       "      <td>6to6.5</td>\n",
       "      <td>150to300</td>\n",
       "      <td>below20</td>\n",
       "      <td>EU</td>\n",
       "    </tr>\n",
       "    <tr>\n",
       "      <th>1</th>\n",
       "      <td>14</td>\n",
       "      <td>1559</td>\n",
       "      <td>1 Bundesliga</td>\n",
       "      <td>Before2016</td>\n",
       "      <td>Ligue 1</td>\n",
       "      <td>M</td>\n",
       "      <td>Tier_1</td>\n",
       "      <td>Tier_1</td>\n",
       "      <td>U30</td>\n",
       "      <td>Under30</td>\n",
       "      <td>10Mto5M</td>\n",
       "      <td>20Mto5M</td>\n",
       "      <td>75to84</td>\n",
       "      <td>75to84</td>\n",
       "      <td>5.5to6</td>\n",
       "      <td>150to300</td>\n",
       "      <td>20to50</td>\n",
       "      <td>AF</td>\n",
       "    </tr>\n",
       "    <tr>\n",
       "      <th>2</th>\n",
       "      <td>22</td>\n",
       "      <td>1923</td>\n",
       "      <td>Serie A</td>\n",
       "      <td>Before2016</td>\n",
       "      <td>Serie A</td>\n",
       "      <td>F</td>\n",
       "      <td>Tier_2</td>\n",
       "      <td>Tier_3</td>\n",
       "      <td>U21</td>\n",
       "      <td>Under23</td>\n",
       "      <td>10Mto5M</td>\n",
       "      <td>20Mto5M</td>\n",
       "      <td>75to84</td>\n",
       "      <td>65to74</td>\n",
       "      <td>6to6.5</td>\n",
       "      <td>50to150</td>\n",
       "      <td>below20</td>\n",
       "      <td>AF</td>\n",
       "    </tr>\n",
       "    <tr>\n",
       "      <th>3</th>\n",
       "      <td>23</td>\n",
       "      <td>1924</td>\n",
       "      <td>Serie A</td>\n",
       "      <td>Before2016</td>\n",
       "      <td>Serie A</td>\n",
       "      <td>F</td>\n",
       "      <td>Tier_2</td>\n",
       "      <td>Tier_1</td>\n",
       "      <td>U25</td>\n",
       "      <td>Under23</td>\n",
       "      <td>10Mto5M</td>\n",
       "      <td>20Mto5M</td>\n",
       "      <td>75to84</td>\n",
       "      <td>65to74</td>\n",
       "      <td>6to6.5</td>\n",
       "      <td>50to150</td>\n",
       "      <td>below20</td>\n",
       "      <td>AF</td>\n",
       "    </tr>\n",
       "    <tr>\n",
       "      <th>4</th>\n",
       "      <td>28</td>\n",
       "      <td>1532</td>\n",
       "      <td>Serie A</td>\n",
       "      <td>Before2016</td>\n",
       "      <td>Serie A</td>\n",
       "      <td>M</td>\n",
       "      <td>Tier_2</td>\n",
       "      <td>Tier_2</td>\n",
       "      <td>U21</td>\n",
       "      <td>Under23</td>\n",
       "      <td>10Mto5M</td>\n",
       "      <td>20Mto5M</td>\n",
       "      <td>75to84</td>\n",
       "      <td>65to74</td>\n",
       "      <td>6to6.5</td>\n",
       "      <td>50to150</td>\n",
       "      <td>below20</td>\n",
       "      <td>AF</td>\n",
       "    </tr>\n",
       "  </tbody>\n",
       "</table>\n",
       "</div>"
      ],
      "text/plain": [
       "   Unnamed: 0    ID  arrival_league        year origin_league  \\\n",
       "0           0  1913  Premier League  Before2016       Ligue 1   \n",
       "1          14  1559    1 Bundesliga  Before2016       Ligue 1   \n",
       "2          22  1923         Serie A  Before2016       Serie A   \n",
       "3          23  1924         Serie A  Before2016       Serie A   \n",
       "4          28  1532         Serie A  Before2016       Serie A   \n",
       "\n",
       "  grouping_position arrival_club_tier origin_club_tier age_grouping_1  \\\n",
       "0                 D            Tier_2           Tier_1            U25   \n",
       "1                 M            Tier_1           Tier_1            U30   \n",
       "2                 F            Tier_2           Tier_3            U21   \n",
       "3                 F            Tier_2           Tier_1            U25   \n",
       "4                 M            Tier_2           Tier_2            U21   \n",
       "\n",
       "  age_grouping_2 transfer_price_group1 transfer_price_group2 potential_fifa  \\\n",
       "0        Under30               10Mto5M               20Mto5M        85above   \n",
       "1        Under30               10Mto5M               20Mto5M         75to84   \n",
       "2        Under23               10Mto5M               20Mto5M         75to84   \n",
       "3        Under23               10Mto5M               20Mto5M         75to84   \n",
       "4        Under23               10Mto5M               20Mto5M         75to84   \n",
       "\n",
       "  overall_fifa new_height appearances    goals   N  \n",
       "0       75to84     6to6.5    150to300  below20  EU  \n",
       "1       75to84     5.5to6    150to300   20to50  AF  \n",
       "2       65to74     6to6.5     50to150  below20  AF  \n",
       "3       65to74     6to6.5     50to150  below20  AF  \n",
       "4       65to74     6to6.5     50to150  below20  AF  "
      ]
     },
     "execution_count": 68,
     "metadata": {},
     "output_type": "execute_result"
    }
   ],
   "source": [
    "data = pd.read_csv(\"data/modelling datasets/transfers_final.csv\")\n",
    "data.head()"
   ]
  },
  {
   "cell_type": "code",
   "execution_count": 67,
   "metadata": {},
   "outputs": [
    {
     "data": {
      "text/plain": [
       "A      3\n",
       "N      6\n",
       "Y      2\n",
       "P      4\n",
       "Pot    4\n",
       "Ovr    4\n",
       "App    4\n",
       "AL     6\n",
       "AC     4\n",
       "OL     6\n",
       "OC     4\n",
       "T      3\n",
       "Name: unique, dtype: object"
      ]
     },
     "execution_count": 67,
     "metadata": {},
     "output_type": "execute_result"
    }
   ],
   "source": [
    "data.describe(include='all').loc['unique']"
   ]
  },
  {
   "cell_type": "code",
   "execution_count": 5,
   "metadata": {},
   "outputs": [
    {
     "data": {
      "text/html": [
       "<div>\n",
       "<style scoped>\n",
       "    .dataframe tbody tr th:only-of-type {\n",
       "        vertical-align: middle;\n",
       "    }\n",
       "\n",
       "    .dataframe tbody tr th {\n",
       "        vertical-align: top;\n",
       "    }\n",
       "\n",
       "    .dataframe thead th {\n",
       "        text-align: right;\n",
       "    }\n",
       "</style>\n",
       "<table border=\"1\" class=\"dataframe\">\n",
       "  <thead>\n",
       "    <tr style=\"text-align: right;\">\n",
       "      <th></th>\n",
       "      <th>Unnamed: 0</th>\n",
       "      <th>ID</th>\n",
       "      <th>arrival_league</th>\n",
       "      <th>year</th>\n",
       "      <th>origin_league</th>\n",
       "      <th>grouping_position</th>\n",
       "      <th>arrival_club_tier</th>\n",
       "      <th>origin_club_tier</th>\n",
       "      <th>age_grouping_1</th>\n",
       "      <th>age_grouping_2</th>\n",
       "      <th>transfer_price_group1</th>\n",
       "      <th>transfer_price_group2</th>\n",
       "      <th>potential_fifa</th>\n",
       "      <th>overall_fifa</th>\n",
       "      <th>new_height</th>\n",
       "      <th>appearances</th>\n",
       "      <th>goals</th>\n",
       "      <th>N</th>\n",
       "    </tr>\n",
       "  </thead>\n",
       "  <tbody>\n",
       "    <tr>\n",
       "      <th>count</th>\n",
       "      <td>1913.000000</td>\n",
       "      <td>1913.000000</td>\n",
       "      <td>1913</td>\n",
       "      <td>1913</td>\n",
       "      <td>1913</td>\n",
       "      <td>1913</td>\n",
       "      <td>1913</td>\n",
       "      <td>1913</td>\n",
       "      <td>1913</td>\n",
       "      <td>1913</td>\n",
       "      <td>1913</td>\n",
       "      <td>1913</td>\n",
       "      <td>1913</td>\n",
       "      <td>1913</td>\n",
       "      <td>1913</td>\n",
       "      <td>1913</td>\n",
       "      <td>1913</td>\n",
       "      <td>1913</td>\n",
       "    </tr>\n",
       "    <tr>\n",
       "      <th>unique</th>\n",
       "      <td>NaN</td>\n",
       "      <td>NaN</td>\n",
       "      <td>6</td>\n",
       "      <td>2</td>\n",
       "      <td>6</td>\n",
       "      <td>4</td>\n",
       "      <td>4</td>\n",
       "      <td>4</td>\n",
       "      <td>4</td>\n",
       "      <td>3</td>\n",
       "      <td>4</td>\n",
       "      <td>3</td>\n",
       "      <td>4</td>\n",
       "      <td>4</td>\n",
       "      <td>4</td>\n",
       "      <td>4</td>\n",
       "      <td>4</td>\n",
       "      <td>6</td>\n",
       "    </tr>\n",
       "    <tr>\n",
       "      <th>top</th>\n",
       "      <td>NaN</td>\n",
       "      <td>NaN</td>\n",
       "      <td>Premier League</td>\n",
       "      <td>After2016</td>\n",
       "      <td>Other</td>\n",
       "      <td>F</td>\n",
       "      <td>Tier_1</td>\n",
       "      <td>Tier_1</td>\n",
       "      <td>U25</td>\n",
       "      <td>Under30</td>\n",
       "      <td>10Mto5M</td>\n",
       "      <td>20Mto5M</td>\n",
       "      <td>75to84</td>\n",
       "      <td>65to74</td>\n",
       "      <td>6to6.5</td>\n",
       "      <td>50to150</td>\n",
       "      <td>below20</td>\n",
       "      <td>EU</td>\n",
       "    </tr>\n",
       "    <tr>\n",
       "      <th>freq</th>\n",
       "      <td>NaN</td>\n",
       "      <td>NaN</td>\n",
       "      <td>647</td>\n",
       "      <td>981</td>\n",
       "      <td>566</td>\n",
       "      <td>805</td>\n",
       "      <td>1228</td>\n",
       "      <td>775</td>\n",
       "      <td>871</td>\n",
       "      <td>1006</td>\n",
       "      <td>964</td>\n",
       "      <td>1572</td>\n",
       "      <td>1466</td>\n",
       "      <td>1077</td>\n",
       "      <td>1250</td>\n",
       "      <td>924</td>\n",
       "      <td>907</td>\n",
       "      <td>1267</td>\n",
       "    </tr>\n",
       "    <tr>\n",
       "      <th>mean</th>\n",
       "      <td>2935.660220</td>\n",
       "      <td>967.880293</td>\n",
       "      <td>NaN</td>\n",
       "      <td>NaN</td>\n",
       "      <td>NaN</td>\n",
       "      <td>NaN</td>\n",
       "      <td>NaN</td>\n",
       "      <td>NaN</td>\n",
       "      <td>NaN</td>\n",
       "      <td>NaN</td>\n",
       "      <td>NaN</td>\n",
       "      <td>NaN</td>\n",
       "      <td>NaN</td>\n",
       "      <td>NaN</td>\n",
       "      <td>NaN</td>\n",
       "      <td>NaN</td>\n",
       "      <td>NaN</td>\n",
       "      <td>NaN</td>\n",
       "    </tr>\n",
       "    <tr>\n",
       "      <th>std</th>\n",
       "      <td>1879.433961</td>\n",
       "      <td>561.899568</td>\n",
       "      <td>NaN</td>\n",
       "      <td>NaN</td>\n",
       "      <td>NaN</td>\n",
       "      <td>NaN</td>\n",
       "      <td>NaN</td>\n",
       "      <td>NaN</td>\n",
       "      <td>NaN</td>\n",
       "      <td>NaN</td>\n",
       "      <td>NaN</td>\n",
       "      <td>NaN</td>\n",
       "      <td>NaN</td>\n",
       "      <td>NaN</td>\n",
       "      <td>NaN</td>\n",
       "      <td>NaN</td>\n",
       "      <td>NaN</td>\n",
       "      <td>NaN</td>\n",
       "    </tr>\n",
       "    <tr>\n",
       "      <th>min</th>\n",
       "      <td>0.000000</td>\n",
       "      <td>1.000000</td>\n",
       "      <td>NaN</td>\n",
       "      <td>NaN</td>\n",
       "      <td>NaN</td>\n",
       "      <td>NaN</td>\n",
       "      <td>NaN</td>\n",
       "      <td>NaN</td>\n",
       "      <td>NaN</td>\n",
       "      <td>NaN</td>\n",
       "      <td>NaN</td>\n",
       "      <td>NaN</td>\n",
       "      <td>NaN</td>\n",
       "      <td>NaN</td>\n",
       "      <td>NaN</td>\n",
       "      <td>NaN</td>\n",
       "      <td>NaN</td>\n",
       "      <td>NaN</td>\n",
       "    </tr>\n",
       "    <tr>\n",
       "      <th>25%</th>\n",
       "      <td>1253.000000</td>\n",
       "      <td>480.000000</td>\n",
       "      <td>NaN</td>\n",
       "      <td>NaN</td>\n",
       "      <td>NaN</td>\n",
       "      <td>NaN</td>\n",
       "      <td>NaN</td>\n",
       "      <td>NaN</td>\n",
       "      <td>NaN</td>\n",
       "      <td>NaN</td>\n",
       "      <td>NaN</td>\n",
       "      <td>NaN</td>\n",
       "      <td>NaN</td>\n",
       "      <td>NaN</td>\n",
       "      <td>NaN</td>\n",
       "      <td>NaN</td>\n",
       "      <td>NaN</td>\n",
       "      <td>NaN</td>\n",
       "    </tr>\n",
       "    <tr>\n",
       "      <th>50%</th>\n",
       "      <td>2640.000000</td>\n",
       "      <td>963.000000</td>\n",
       "      <td>NaN</td>\n",
       "      <td>NaN</td>\n",
       "      <td>NaN</td>\n",
       "      <td>NaN</td>\n",
       "      <td>NaN</td>\n",
       "      <td>NaN</td>\n",
       "      <td>NaN</td>\n",
       "      <td>NaN</td>\n",
       "      <td>NaN</td>\n",
       "      <td>NaN</td>\n",
       "      <td>NaN</td>\n",
       "      <td>NaN</td>\n",
       "      <td>NaN</td>\n",
       "      <td>NaN</td>\n",
       "      <td>NaN</td>\n",
       "      <td>NaN</td>\n",
       "    </tr>\n",
       "    <tr>\n",
       "      <th>75%</th>\n",
       "      <td>4599.000000</td>\n",
       "      <td>1456.000000</td>\n",
       "      <td>NaN</td>\n",
       "      <td>NaN</td>\n",
       "      <td>NaN</td>\n",
       "      <td>NaN</td>\n",
       "      <td>NaN</td>\n",
       "      <td>NaN</td>\n",
       "      <td>NaN</td>\n",
       "      <td>NaN</td>\n",
       "      <td>NaN</td>\n",
       "      <td>NaN</td>\n",
       "      <td>NaN</td>\n",
       "      <td>NaN</td>\n",
       "      <td>NaN</td>\n",
       "      <td>NaN</td>\n",
       "      <td>NaN</td>\n",
       "      <td>NaN</td>\n",
       "    </tr>\n",
       "    <tr>\n",
       "      <th>max</th>\n",
       "      <td>6311.000000</td>\n",
       "      <td>1941.000000</td>\n",
       "      <td>NaN</td>\n",
       "      <td>NaN</td>\n",
       "      <td>NaN</td>\n",
       "      <td>NaN</td>\n",
       "      <td>NaN</td>\n",
       "      <td>NaN</td>\n",
       "      <td>NaN</td>\n",
       "      <td>NaN</td>\n",
       "      <td>NaN</td>\n",
       "      <td>NaN</td>\n",
       "      <td>NaN</td>\n",
       "      <td>NaN</td>\n",
       "      <td>NaN</td>\n",
       "      <td>NaN</td>\n",
       "      <td>NaN</td>\n",
       "      <td>NaN</td>\n",
       "    </tr>\n",
       "  </tbody>\n",
       "</table>\n",
       "</div>"
      ],
      "text/plain": [
       "         Unnamed: 0           ID  arrival_league       year origin_league  \\\n",
       "count   1913.000000  1913.000000            1913       1913          1913   \n",
       "unique          NaN          NaN               6          2             6   \n",
       "top             NaN          NaN  Premier League  After2016         Other   \n",
       "freq            NaN          NaN             647        981           566   \n",
       "mean    2935.660220   967.880293             NaN        NaN           NaN   \n",
       "std     1879.433961   561.899568             NaN        NaN           NaN   \n",
       "min        0.000000     1.000000             NaN        NaN           NaN   \n",
       "25%     1253.000000   480.000000             NaN        NaN           NaN   \n",
       "50%     2640.000000   963.000000             NaN        NaN           NaN   \n",
       "75%     4599.000000  1456.000000             NaN        NaN           NaN   \n",
       "max     6311.000000  1941.000000             NaN        NaN           NaN   \n",
       "\n",
       "       grouping_position arrival_club_tier origin_club_tier age_grouping_1  \\\n",
       "count               1913              1913             1913           1913   \n",
       "unique                 4                 4                4              4   \n",
       "top                    F            Tier_1           Tier_1            U25   \n",
       "freq                 805              1228              775            871   \n",
       "mean                 NaN               NaN              NaN            NaN   \n",
       "std                  NaN               NaN              NaN            NaN   \n",
       "min                  NaN               NaN              NaN            NaN   \n",
       "25%                  NaN               NaN              NaN            NaN   \n",
       "50%                  NaN               NaN              NaN            NaN   \n",
       "75%                  NaN               NaN              NaN            NaN   \n",
       "max                  NaN               NaN              NaN            NaN   \n",
       "\n",
       "       age_grouping_2 transfer_price_group1 transfer_price_group2  \\\n",
       "count            1913                  1913                  1913   \n",
       "unique              3                     4                     3   \n",
       "top           Under30               10Mto5M               20Mto5M   \n",
       "freq             1006                   964                  1572   \n",
       "mean              NaN                   NaN                   NaN   \n",
       "std               NaN                   NaN                   NaN   \n",
       "min               NaN                   NaN                   NaN   \n",
       "25%               NaN                   NaN                   NaN   \n",
       "50%               NaN                   NaN                   NaN   \n",
       "75%               NaN                   NaN                   NaN   \n",
       "max               NaN                   NaN                   NaN   \n",
       "\n",
       "       potential_fifa overall_fifa new_height appearances    goals     N  \n",
       "count            1913         1913       1913        1913     1913  1913  \n",
       "unique              4            4          4           4        4     6  \n",
       "top            75to84       65to74     6to6.5     50to150  below20    EU  \n",
       "freq             1466         1077       1250         924      907  1267  \n",
       "mean              NaN          NaN        NaN         NaN      NaN   NaN  \n",
       "std               NaN          NaN        NaN         NaN      NaN   NaN  \n",
       "min               NaN          NaN        NaN         NaN      NaN   NaN  \n",
       "25%               NaN          NaN        NaN         NaN      NaN   NaN  \n",
       "50%               NaN          NaN        NaN         NaN      NaN   NaN  \n",
       "75%               NaN          NaN        NaN         NaN      NaN   NaN  \n",
       "max               NaN          NaN        NaN         NaN      NaN   NaN  "
      ]
     },
     "execution_count": 5,
     "metadata": {},
     "output_type": "execute_result"
    }
   ],
   "source": [
    "data.describe(include='all')"
   ]
  },
  {
   "cell_type": "code",
   "execution_count": 6,
   "metadata": {},
   "outputs": [
    {
     "data": {
      "text/html": [
       "<div>\n",
       "<style scoped>\n",
       "    .dataframe tbody tr th:only-of-type {\n",
       "        vertical-align: middle;\n",
       "    }\n",
       "\n",
       "    .dataframe tbody tr th {\n",
       "        vertical-align: top;\n",
       "    }\n",
       "\n",
       "    .dataframe thead th {\n",
       "        text-align: right;\n",
       "    }\n",
       "</style>\n",
       "<table border=\"1\" class=\"dataframe\">\n",
       "  <thead>\n",
       "    <tr style=\"text-align: right;\">\n",
       "      <th></th>\n",
       "      <th>A</th>\n",
       "      <th>N</th>\n",
       "      <th>Y</th>\n",
       "      <th>P</th>\n",
       "      <th>Pot</th>\n",
       "      <th>Ovr</th>\n",
       "      <th>App</th>\n",
       "      <th>AL</th>\n",
       "      <th>AC</th>\n",
       "      <th>OL</th>\n",
       "      <th>OC</th>\n",
       "      <th>T</th>\n",
       "    </tr>\n",
       "  </thead>\n",
       "  <tbody>\n",
       "    <tr>\n",
       "      <th>0</th>\n",
       "      <td>Under30</td>\n",
       "      <td>EU</td>\n",
       "      <td>Before2016</td>\n",
       "      <td>D</td>\n",
       "      <td>85above</td>\n",
       "      <td>75to84</td>\n",
       "      <td>150to300</td>\n",
       "      <td>Premier League</td>\n",
       "      <td>Tier_2</td>\n",
       "      <td>Ligue 1</td>\n",
       "      <td>Tier_1</td>\n",
       "      <td>20Mto5M</td>\n",
       "    </tr>\n",
       "    <tr>\n",
       "      <th>1</th>\n",
       "      <td>Under30</td>\n",
       "      <td>AF</td>\n",
       "      <td>Before2016</td>\n",
       "      <td>M</td>\n",
       "      <td>75to84</td>\n",
       "      <td>75to84</td>\n",
       "      <td>150to300</td>\n",
       "      <td>1 Bundesliga</td>\n",
       "      <td>Tier_1</td>\n",
       "      <td>Ligue 1</td>\n",
       "      <td>Tier_1</td>\n",
       "      <td>20Mto5M</td>\n",
       "    </tr>\n",
       "    <tr>\n",
       "      <th>2</th>\n",
       "      <td>Under23</td>\n",
       "      <td>AF</td>\n",
       "      <td>Before2016</td>\n",
       "      <td>F</td>\n",
       "      <td>75to84</td>\n",
       "      <td>65to74</td>\n",
       "      <td>50to150</td>\n",
       "      <td>Serie A</td>\n",
       "      <td>Tier_2</td>\n",
       "      <td>Serie A</td>\n",
       "      <td>Tier_3</td>\n",
       "      <td>20Mto5M</td>\n",
       "    </tr>\n",
       "    <tr>\n",
       "      <th>3</th>\n",
       "      <td>Under23</td>\n",
       "      <td>AF</td>\n",
       "      <td>Before2016</td>\n",
       "      <td>F</td>\n",
       "      <td>75to84</td>\n",
       "      <td>65to74</td>\n",
       "      <td>50to150</td>\n",
       "      <td>Serie A</td>\n",
       "      <td>Tier_2</td>\n",
       "      <td>Serie A</td>\n",
       "      <td>Tier_1</td>\n",
       "      <td>20Mto5M</td>\n",
       "    </tr>\n",
       "    <tr>\n",
       "      <th>4</th>\n",
       "      <td>Under23</td>\n",
       "      <td>AF</td>\n",
       "      <td>Before2016</td>\n",
       "      <td>M</td>\n",
       "      <td>75to84</td>\n",
       "      <td>65to74</td>\n",
       "      <td>50to150</td>\n",
       "      <td>Serie A</td>\n",
       "      <td>Tier_2</td>\n",
       "      <td>Serie A</td>\n",
       "      <td>Tier_2</td>\n",
       "      <td>20Mto5M</td>\n",
       "    </tr>\n",
       "  </tbody>\n",
       "</table>\n",
       "</div>"
      ],
      "text/plain": [
       "         A   N           Y  P      Pot     Ovr       App              AL  \\\n",
       "0  Under30  EU  Before2016  D  85above  75to84  150to300  Premier League   \n",
       "1  Under30  AF  Before2016  M   75to84  75to84  150to300    1 Bundesliga   \n",
       "2  Under23  AF  Before2016  F   75to84  65to74   50to150         Serie A   \n",
       "3  Under23  AF  Before2016  F   75to84  65to74   50to150         Serie A   \n",
       "4  Under23  AF  Before2016  M   75to84  65to74   50to150         Serie A   \n",
       "\n",
       "       AC       OL      OC        T  \n",
       "0  Tier_2  Ligue 1  Tier_1  20Mto5M  \n",
       "1  Tier_1  Ligue 1  Tier_1  20Mto5M  \n",
       "2  Tier_2  Serie A  Tier_3  20Mto5M  \n",
       "3  Tier_2  Serie A  Tier_1  20Mto5M  \n",
       "4  Tier_2  Serie A  Tier_2  20Mto5M  "
      ]
     },
     "execution_count": 6,
     "metadata": {},
     "output_type": "execute_result"
    }
   ],
   "source": [
    "data.rename(columns={\"arrival_league\": \"AL\", \"year\": \"Y\", \"origin_league\": \"OL\", \"grouping_position\": \"P\", \n",
    "                     \"arrival_club_tier\": \"AC\", \"origin_club_tier\": \"OC\", \"age_grouping_2\": \"A\", \n",
    "                     \"transfer_price_group2\": \"T\", \"potential_fifa\": \"Pot\", \"overall_fifa\": \"Ovr\", \n",
    "                     \"new_height\": \"H\", \"appearances\": \"App\"}, inplace=True)\n",
    "data = data[[\"A\", \"N\", \"Y\", \"P\", \"Pot\", \"Ovr\", \"App\", \"AL\", \"AC\", \"OL\", \"OC\", \"T\"]]\n",
    "data.head()"
   ]
  },
  {
   "cell_type": "code",
   "execution_count": 7,
   "metadata": {},
   "outputs": [
    {
     "data": {
      "image/png": "[encoded data removed]",
      "text/plain": [
       "<Figure size 432x288 with 1 Axes>"
      ]
     },
     "metadata": {},
     "output_type": "display_data"
    }
   ],
   "source": [
    "bn_model = BayesianModel([('OL', 'OC'), ('AL', 'AC'), ('Ovr', 'Pot'), ('A', 'App'), ('OC', 'T'), \n",
    "                          ('AC', 'T'), ('N', 'T'), ('Y', 'T'), ('Ovr', 'T'), ('Pot', 'T'), \n",
    "                          ('P', 'Ovr'), ('P', 'Pot'), ('A', 'T'), ('A', 'Ovr'), ('A', 'Pot'),\n",
    "                          ('App', 'T'), ('P', 'T')])\n",
    "nx.draw(bn_model, with_labels=True)\n",
    "plt.show()"
   ]
  },
  {
   "cell_type": "code",
   "execution_count": 8,
   "metadata": {},
   "outputs": [],
   "source": [
    "bn_model.fit(data, estimator=BayesianEstimator, prior_type=\"BDeu\", equivalent_sample_size=10) # default equivalent_sample_size=5"
   ]
  },
  {
   "cell_type": "code",
   "execution_count": 9,
   "metadata": {},
   "outputs": [
    {
     "name": "stdout",
     "output_type": "stream",
     "text": [
      "OL\n",
      "['1 Bundesliga', 'Ligue 1', 'Other', 'Premier League', 'Primera Division', 'Serie A']\n",
      "OC\n",
      "['Tier_1', 'Tier_2', 'Tier_3', 'Tier_4']\n",
      "AL\n",
      "['1 Bundesliga', 'Ligue 1', 'Other', 'Premier League', 'Primera Division', 'Serie A']\n",
      "AC\n",
      "['Tier_1', 'Tier_2', 'Tier_3', 'Tier_4']\n",
      "Ovr\n",
      "['65to74', '75to84', '85above', 'below65']\n",
      "Pot\n",
      "['65to74', '75to84', '85above', 'below65']\n",
      "A\n",
      "['Above30', 'Under23', 'Under30']\n",
      "App\n",
      "['150to300', '300above', '50to150', 'below50']\n",
      "T\n",
      "['20Mto5M', '60Mto20M', 'Above60M']\n",
      "N\n",
      "['AF', 'AS', 'EU', 'N_A', 'OC', 'SA']\n",
      "Y\n",
      "['After2016', 'Before2016']\n",
      "P\n",
      "['D', 'F', 'GK', 'M']\n"
     ]
    }
   ],
   "source": [
    "for cpd in bn_model.get_cpds():\n",
    "    print(cpd.variable)\n",
    "    print(cpd.state_names[cpd.variable])"
   ]
  },
  {
   "cell_type": "code",
   "execution_count": 17,
   "metadata": {},
   "outputs": [],
   "source": [
    "a = bn_model.get_cpds(node=\"Ovr\")"
   ]
  },
  {
   "cell_type": "code",
   "execution_count": 18,
   "metadata": {},
   "outputs": [
    {
     "data": {
      "text/plain": [
       "{'Ovr': ['65to74', '75to84', '85above', 'below65'],\n",
       " 'A': ['Above30', 'Under23', 'Under30'],\n",
       " 'P': ['D', 'F', 'GK', 'M']}"
      ]
     },
     "execution_count": 18,
     "metadata": {},
     "output_type": "execute_result"
    }
   ],
   "source": [
    "a.state_names"
   ]
  },
  {
   "cell_type": "code",
   "execution_count": 19,
   "metadata": {},
   "outputs": [
    {
     "data": {
      "text/plain": [
       "['P', 'A']"
      ]
     },
     "execution_count": 19,
     "metadata": {},
     "output_type": "execute_result"
    }
   ],
   "source": [
    "a.get_evidence()\n",
    "# [Year][Potential][Position][Overall][Origin_club][Nationality][Apperances][Arrival_club][Age]"
   ]
  },
  {
   "cell_type": "code",
   "execution_count": 13,
   "metadata": {},
   "outputs": [
    {
     "data": {
      "text/plain": [
       "['T', 'A', 'AC', 'App', 'N', 'OC', 'Ovr', 'P', 'Pot', 'Y']"
      ]
     },
     "execution_count": 13,
     "metadata": {},
     "output_type": "execute_result"
    }
   ],
   "source": [
    "a.variables"
   ]
  },
  {
   "cell_type": "code",
   "execution_count": 80,
   "metadata": {},
   "outputs": [
    {
     "data": {
      "text/plain": [
       "array([[0.38883848, 0.44819193, 0.10642983, 0.61686257, 0.59919473,\n",
       "        0.51961271],\n",
       "       [0.43784029, 0.28546592, 0.15223136, 0.23440325, 0.17752562,\n",
       "        0.36469712],\n",
       "       [0.13838475, 0.21453408, 0.10114504, 0.12861664, 0.15995608,\n",
       "        0.11146971],\n",
       "       [0.03493648, 0.05180807, 0.64019378, 0.02011754, 0.06332357,\n",
       "        0.00422046]])"
      ]
     },
     "execution_count": 80,
     "metadata": {},
     "output_type": "execute_result"
    }
   ],
   "source": [
    "a.values.T"
   ]
  },
  {
   "cell_type": "markdown",
   "metadata": {},
   "source": [
    "## Pyro"
   ]
  },
  {
   "cell_type": "code",
   "execution_count": 21,
   "metadata": {},
   "outputs": [],
   "source": [
    "from statistics import mean\n",
    "import torch\n",
    "import numpy as np\n",
    "import pyro\n",
    "import pyro.distributions as dist\n",
    "from pyro.infer import Importance, EmpiricalMarginal\n",
    "import matplotlib.pyplot as plt\n",
    "import pandas as pd\n",
    "%matplotlib inline\n",
    "\n",
    "pyro.set_rng_seed(101)"
   ]
  },
  {
   "cell_type": "code",
   "execution_count": 35,
   "metadata": {},
   "outputs": [
    {
     "name": "stdout",
     "output_type": "stream",
     "text": [
      "['AF', 'AS', 'EU', 'N_A', 'OC', 'SA']\n",
      "['D', 'F', 'GK', 'M']\n",
      "['Above30', 'Under23', 'Under30']\n",
      "['Tier_1', 'Tier_2', 'Tier_3', 'Tier_4']\n",
      "['1 Bundesliga', 'Ligue 1', 'Other', 'Premier League', 'Primera Division', 'Serie A']\n",
      "['Tier_1', 'Tier_2', 'Tier_3', 'Tier_4']\n",
      "['1 Bundesliga', 'Ligue 1', 'Other', 'Premier League', 'Primera Division', 'Serie A']\n",
      "['65to74', '75to84', '85above', 'below65']\n",
      "['65to74', '75to84', '85above', 'below65']\n",
      "['After2016', 'Before2016']\n",
      "['20Mto5M', '60Mto20M', 'Above60M']\n"
     ]
    }
   ],
   "source": [
    "# labels\n",
    "N_label = bn_model.get_cpds(node=\"N\").state_names[\"N\"]\n",
    "print(N_label)\n",
    "P_label = bn_model.get_cpds(node=\"P\").state_names[\"P\"]\n",
    "print(P_label)\n",
    "Age_label = bn_model.get_cpds(node=\"A\").state_names[\"A\"]\n",
    "print(Age_label)\n",
    "OC_label = bn_model.get_cpds(node=\"OC\").state_names[\"OC\"]\n",
    "print(OC_label)\n",
    "OL_label = bn_model.get_cpds(node=\"OL\").state_names[\"OL\"]\n",
    "print(OL_label)\n",
    "AC_label = bn_model.get_cpds(node=\"AC\").state_names[\"AC\"]\n",
    "print(AC_label)\n",
    "AL_label = bn_model.get_cpds(node=\"AL\").state_names[\"AL\"]\n",
    "print(AL_label)\n",
    "Ovr_label = bn_model.get_cpds(node=\"Ovr\").state_names[\"Ovr\"]\n",
    "print(Ovr_label)\n",
    "Pot_label = bn_model.get_cpds(node=\"Pot\").state_names[\"Pot\"]\n",
    "print(Pot_label)\n",
    "Y_label = bn_model.get_cpds(node=\"Y\").state_names[\"Y\"]\n",
    "print(Y_label)\n",
    "TP_label = bn_model.get_cpds(node=\"T\").state_names[\"T\"]\n",
    "print(TP_label)"
   ]
  },
  {
   "cell_type": "code",
   "execution_count": 23,
   "metadata": {},
   "outputs": [],
   "source": [
    "Age_probs = torch.tensor(bn_model.get_cpds(node=\"A\").values.T)\n",
    "Position_probs = torch.tensor(bn_model.get_cpds(node=\"P\").values.T)\n",
    "Nationality_probs = torch.tensor(bn_model.get_cpds(node=\"N\").values.T)\n",
    "year_probs = torch.tensor(bn_model.get_cpds(node=\"Y\").values.T)\n",
    "arrival_league_probs = torch.tensor(bn_model.get_cpds(node=\"AL\").values.T)\n",
    "origin_league_probs = torch.tensor(bn_model.get_cpds(node=\"OL\").values.T)\n",
    "arrival_club_probs = torch.tensor(bn_model.get_cpds(node=\"AC\").values.T)\n",
    "origin_club_probs = torch.tensor(bn_model.get_cpds(node=\"OC\").values.T)\n",
    "overall_probs = torch.tensor(bn_model.get_cpds(node=\"Ovr\").values.T)\n",
    "potential_probs = torch.tensor(bn_model.get_cpds(node=\"Pot\").values.T)\n",
    "app_probs = torch.tensor(bn_model.get_cpds(node=\"App\").values.T)\n",
    "transfer_price_probs = torch.tensor(bn_model.get_cpds(node=\"T\").values.T)"
   ]
  },
  {
   "cell_type": "code",
   "execution_count": 25,
   "metadata": {},
   "outputs": [
    {
     "name": "stdout",
     "output_type": "stream",
     "text": [
      "{'A': tensor(1), 'P': tensor(1), 'N': tensor(5), 'Y': tensor(0), 'AL': tensor(5), 'OL': tensor(1), 'AC': tensor(0), 'OC': tensor(3), 'Ovr': tensor(0), 'Pot': tensor(1), 'App': tensor(2), 'TP': tensor(0)}\n"
     ]
    }
   ],
   "source": [
    "def pyro_model():\n",
    "    \n",
    "    Age = pyro.sample(\"A\", dist.Categorical(probs=Age_probs)) \n",
    "    Position = pyro.sample(\"P\", dist.Categorical(probs=Position_probs)) \n",
    "    Nationality = pyro.sample(\"N\", dist.Categorical(probs=Nationality_probs)) \n",
    "    Year = pyro.sample(\"Y\", dist.Categorical(probs=year_probs)) \n",
    "    Arrival_league = pyro.sample(\"AL\", dist.Categorical(probs=arrival_league_probs))\n",
    "    Origin_league = pyro.sample('OL', dist.Categorical(probs=origin_league_probs))\n",
    "    Arrival_club = pyro.sample('AC', dist.Categorical(probs=arrival_club_probs[Arrival_league]))\n",
    "    Origin_club = pyro.sample('OC', dist.Categorical(probs=origin_club_probs[Origin_league]))\n",
    "    Overall = pyro.sample('Ovr', dist.Categorical(probs=overall_probs[Position][Age]))\n",
    "    Potential = pyro.sample('Pot',dist.Categorical(probs=potential_probs[Position][Overall][Age]))\n",
    "    Appearances = pyro.sample('App',dist.Categorical(probs=app_probs[Age]))                            \n",
    "\n",
    "    transfer_price = pyro.sample('TP', dist.Categorical(probs=transfer_price_probs[Year][Potential][Position][Overall][Origin_club][Nationality][Appearances][Arrival_club][Age]))\n",
    "                            \n",
    "    return{'A': Age,'P': Position,'N': Nationality,'Y': Year,'AL': Arrival_league,'OL':Origin_league,'AC':Arrival_club,'OC':Origin_club,'Ovr':Overall,'Pot':Potential, 'App':Appearances, 'TP':transfer_price} \n",
    "\n",
    "print(pyro_model())"
   ]
  },
  {
   "cell_type": "code",
   "execution_count": 59,
   "metadata": {},
   "outputs": [],
   "source": [
    "def importance_sampling(model, title, xlabel, ylabel, marginal_on):\n",
    "    posterior = pyro.infer.Importance(model, num_samples=5000).run()\n",
    "    marginal = EmpiricalMarginal(posterior, marginal_on)\n",
    "    samples = [marginal().item() for _ in range(5000)]\n",
    "    unique, counts = np.unique(samples, return_counts=True)\n",
    "\n",
    "    plt.bar(unique, counts, align='center', alpha=0.5)\n",
    "    plt.xticks(unique, TP_label)\n",
    "    plt.ylabel(ylabel)\n",
    "    plt.xlabel(xlabel)\n",
    "    for i in range(len(TP_label)):\n",
    "        plt.text(i, counts[i]+10, str(counts[i]))\n",
    "    plt.title(title)"
   ]
  },
  {
   "cell_type": "code",
   "execution_count": 31,
   "metadata": {},
   "outputs": [],
   "source": [
    "# intevrening on transfer price to do reverse infernece and see probabilites of other varaibles"
   ]
  },
  {
   "cell_type": "code",
   "execution_count": 60,
   "metadata": {},
   "outputs": [
    {
     "data": {
      "image/png": "[encoded data removed]",
      "text/plain": [
       "<Figure size 432x288 with 1 Axes>"
      ]
     },
     "metadata": {
      "needs_background": "light"
     },
     "output_type": "display_data"
    }
   ],
   "source": [
    "# Intervening on south american fowards\n",
    "\n",
    "do_on_SA_F = pyro.do(pyro_model, data={'N': torch.tensor(5), 'P': torch.tensor(1)})\n",
    "\n",
    "importance_sampling(model=do_on_SA_F, title=\"P(TP | do(N = 'SA', P = 'F')) - Importance Sampling\",\n",
    "                    xlabel='Transfer Price', ylabel='count', marginal_on='TP')"
   ]
  },
  {
   "cell_type": "code",
   "execution_count": 61,
   "metadata": {},
   "outputs": [
    {
     "data": {
      "image/png": "[encoded data removed]",
      "text/plain": [
       "<Figure size 432x288 with 1 Axes>"
      ]
     },
     "metadata": {
      "needs_background": "light"
     },
     "output_type": "display_data"
    }
   ],
   "source": [
    "# transfer between english teams\n",
    "\n",
    "do_on_PremierL = pyro.do(pyro_model, data={'AL': torch.tensor(3), 'OL': torch.tensor(3)})\n",
    "\n",
    "importance_sampling(model=do_on_PremierL, \n",
    "                    title=\"P(TP | do(AL = 'Premier League', OL = 'Premier League') - Importance Sampling\",\n",
    "                    xlabel='Transfer Price', ylabel='count', marginal_on='TP')"
   ]
  },
  {
   "cell_type": "code",
   "execution_count": 62,
   "metadata": {},
   "outputs": [
    {
     "data": {
      "image/png": "[encoded data removed]",
      "text/plain": [
       "<Figure size 432x288 with 1 Axes>"
      ]
     },
     "metadata": {
      "needs_background": "light"
     },
     "output_type": "display_data"
    }
   ],
   "source": [
    "# intervening on transfers betwen tier 1 clubs\n",
    "\n",
    "do_on_Tier1 = pyro.do(pyro_model, data={'AC': torch.tensor(0), 'OC': torch.tensor(0)})\n",
    "\n",
    "importance_sampling(model=do_on_Tier1, \n",
    "                    title=\"P(TP | do(AC = 'Tier 1', OC = 'Tier 1') - Importance Sampling\",\n",
    "                    xlabel='Transfer Price', ylabel='count', marginal_on='TP')"
   ]
  },
  {
   "cell_type": "code",
   "execution_count": 64,
   "metadata": {},
   "outputs": [
    {
     "data": {
      "image/png": "[encoded data removed]",
      "text/plain": [
       "<Figure size 432x288 with 1 Axes>"
      ]
     },
     "metadata": {
      "needs_background": "light"
     },
     "output_type": "display_data"
    }
   ],
   "source": [
    "# intervening on young and high potenital stars to test intution about our transfer strategy\n",
    "\n",
    "do_on_young_stars = pyro.do(pyro_model, data={'A': torch.tensor(1), 'Pot': torch.tensor(2)})\n",
    "\n",
    "importance_sampling(model=do_on_young_stars, \n",
    "                    title=\"P(TP | do(A = 'Under23', Pot = '85above') - Importance Sampling\",\n",
    "                    xlabel='Transfer Price', ylabel='count', marginal_on='TP')"
   ]
  },
  {
   "cell_type": "code",
   "execution_count": 93,
   "metadata": {},
   "outputs": [
    {
     "data": {
      "image/png": "[encoded data removed]",
      "text/plain": [
       "<Figure size 432x288 with 1 Axes>"
      ]
     },
     "metadata": {
      "needs_background": "light"
     },
     "output_type": "display_data"
    }
   ],
   "source": [
    "# intevrening on year to see inflated probabilities for price brackets\n",
    "# intervening on players for transfers before 2016\n",
    "\n",
    "do_before2016 = pyro.do(pyro_model, data={'Y': torch.tensor(1)})\n",
    "do_before2016_conditioned_model = pyro.condition(do_before2016, data={'Pot':torch.tensor(2)})\n",
    "\n",
    "importance_sampling(model=do_before2016_conditioned_model, \n",
    "                    title=\"P(TP | do(Y = 'Before2016', P = '85above') - Importance Sampling\",\n",
    "                    xlabel='Transfer Price', ylabel='count', marginal_on='TP')"
   ]
  },
  {
   "cell_type": "code",
   "execution_count": 66,
   "metadata": {},
   "outputs": [
    {
     "data": {
      "image/png": "[encoded data removed]",
      "text/plain": [
       "<Figure size 432x288 with 1 Axes>"
      ]
     },
     "metadata": {
      "needs_background": "light"
     },
     "output_type": "display_data"
    }
   ],
   "source": [
    "# intervening on players for transfers after 2016\n",
    "\n",
    "do_after2016 = pyro.do(pyro_model, data={'Y': torch.tensor(0)})\n",
    "do_after2016_conditioned_model = pyro.condition(do_after2016, data={'Pot':torch.tensor(2)})\n",
    "\n",
    "importance_sampling(model=do_after2016_conditioned_model, \n",
    "                    title=\"P(TP | do(Y = 'After2016', P = '85above') - Importance Sampling\",\n",
    "                    xlabel='Transfer Price', ylabel='count', marginal_on='TP')"
   ]
  },
  {
   "cell_type": "markdown",
   "metadata": {},
   "source": [
    "## Finding the Causal Effect of all variables on Transfer Price 'above 60M'  "
   ]
  },
  {
   "cell_type": "code",
   "execution_count": 77,
   "metadata": {},
   "outputs": [],
   "source": [
    "def causal_effect(model1, model2, marginal_on, marginal_val, n_samples=5000):\n",
    "    posterior1 = pyro.infer.Importance(model1, num_samples=n_samples).run()\n",
    "    marginal1 = EmpiricalMarginal(posterior1, marginal_on)\n",
    "    samples1 = [marginal1().item() for _ in range(n_samples)]\n",
    "    unique1, counts1 = np.unique(samples1, return_counts=True)\n",
    "    \n",
    "    posterior2 = pyro.infer.Importance(model2, num_samples=n_samples).run()\n",
    "    marginal2 = EmpiricalMarginal(posterior2, marginal_on)\n",
    "    samples2 = [marginal2().item() for _ in range(n_samples)]\n",
    "    unique2, counts2 = np.unique(samples2, return_counts=True)\n",
    "\n",
    "    return counts1[marginal_val] / n_samples  - counts2[marginal_val] / n_samples"
   ]
  },
  {
   "cell_type": "code",
   "execution_count": 78,
   "metadata": {},
   "outputs": [
    {
     "data": {
      "text/plain": [
       "0.006200000000000011"
      ]
     },
     "execution_count": 78,
     "metadata": {},
     "output_type": "execute_result"
    }
   ],
   "source": [
    "# Causal effect of year on Transfer price above 60M\n",
    "do_before2016 = pyro.do(pyro_model, data={'Y': torch.tensor(1)})\n",
    "do_after2016 = pyro.do(pyro_model, data={'Y': torch.tensor(0)})\n",
    "\n",
    "#P(TP > Above60M | do(Y = After2016) - P(TP > Above60M | do(Y = Before2016))\n",
    "causal_effect(model1=do_before2016, model2=do_after2016, marginal_on='TP', marginal_val=2)"
   ]
  },
  {
   "cell_type": "code",
   "execution_count": 80,
   "metadata": {},
   "outputs": [
    {
     "data": {
      "text/plain": [
       "0.1468"
      ]
     },
     "execution_count": 80,
     "metadata": {},
     "output_type": "execute_result"
    }
   ],
   "source": [
    "# Causal effect of age on Transfer price above 60M\n",
    "# Age_Label = ['Above30', 'Under23', 'Under30']\n",
    "do_above30 = pyro.do(pyro_model, data={'A': torch.tensor(0)})\n",
    "do_under30 = pyro.do(pyro_model, data={'A': torch.tensor(2)})\n",
    "\n",
    "#P(TP > Above60M | do(A = Above30) - P(TP > Above60M | do(A = Under30))\n",
    "causal_effect(model1=do_above30, model2=do_under30, marginal_on='TP', marginal_val=2)"
   ]
  },
  {
   "cell_type": "code",
   "execution_count": 84,
   "metadata": {},
   "outputs": [
    {
     "data": {
      "text/plain": [
       "0.02959999999999996"
      ]
     },
     "execution_count": 84,
     "metadata": {},
     "output_type": "execute_result"
    }
   ],
   "source": [
    "# Causal effect of Potential Rating on Transfer price betweein 20-60M\n",
    "# Potential_Label = ['65to74', '75to84', '85above', 'below65']\n",
    "do_above85_pot = pyro.do(pyro_model, data={'Pot': torch.tensor(2)})\n",
    "do_below65_pot = pyro.do(pyro_model, data={'Pot': torch.tensor(0)})\n",
    "\n",
    "#P(TP > Above60M | do(A = Above30) - P(TP > Above60M | do(A = Under30))\n",
    "causal_effect(model1=do_above85_pot, model2=do_below65_pot, marginal_on='TP', marginal_val=1)"
   ]
  },
  {
   "cell_type": "code",
   "execution_count": 85,
   "metadata": {},
   "outputs": [
    {
     "data": {
      "text/plain": [
       "0.030799999999999994"
      ]
     },
     "execution_count": 85,
     "metadata": {},
     "output_type": "execute_result"
    }
   ],
   "source": [
    "# Causal effect of Overall Rating on Transfer price above 60M\n",
    "# Potential_Label = ['65to74', '75to84', '85above', 'below65']\n",
    "do_above85_ovr = pyro.do(pyro_model, data={'Ovr': torch.tensor(2)})\n",
    "do_below65_ovr = pyro.do(pyro_model, data={'Ovr': torch.tensor(3)})\n",
    "\n",
    "#P(TP > Above60M | do(A = Above30) - P(TP > Above60M | do(A = Under30))\n",
    "causal_effect(model1=do_above85_ovr, model2=do_below65_ovr, marginal_on='TP', marginal_val=1)"
   ]
  },
  {
   "cell_type": "code",
   "execution_count": 91,
   "metadata": {},
   "outputs": [
    {
     "data": {
      "text/plain": [
       "-0.016199999999999992"
      ]
     },
     "execution_count": 91,
     "metadata": {},
     "output_type": "execute_result"
    }
   ],
   "source": [
    "# Causal effect of Arrival Club on Transfer price above between 20 - 60M\n",
    "#AC['Tier_1', 'Tier_2', 'Tier_3', 'Tier_4']\n",
    "do_tier1 = pyro.do(pyro_model, data={'AC': torch.tensor(0)})\n",
    "do_tier3 = pyro.do(pyro_model, data={'AC': torch.tensor(2)})\n",
    "\n",
    "#P(TP > Above60M | do(A = Above30) - P(TP > Above60M | do(A = Under30))\n",
    "causal_effect(model1=do_tier1, model2=do_tier3, marginal_on='TP', marginal_val=1)"
   ]
  },
  {
   "cell_type": "code",
   "execution_count": 92,
   "metadata": {},
   "outputs": [
    {
     "data": {
      "text/plain": [
       "0.04720000000000002"
      ]
     },
     "execution_count": 92,
     "metadata": {},
     "output_type": "execute_result"
    }
   ],
   "source": [
    "# Causal effect of Origin Club on Transfer price between 20 - 60M\n",
    "#OC['Tier_1', 'Tier_2', 'Tier_3', 'Tier_4']\n",
    "oc_do_tier1 = pyro.do(pyro_model, data={'OC': torch.tensor(0)})\n",
    "oc_do_tier3 = pyro.do(pyro_model, data={'OC': torch.tensor(2)})\n",
    "\n",
    "#P(TP > Above60M | do(A = Above30) - P(TP > Above60M | do(A = Under30))\n",
    "causal_effect(model1=oc_do_tier1, model2=oc_do_tier3, marginal_on='TP', marginal_val=1)"
   ]
  },
  {
   "cell_type": "code",
   "execution_count": 114,
   "metadata": {},
   "outputs": [],
   "source": [
    "# Counterfactual query on Potential changing from 'below65' to '85above'\n",
    "\n",
    "conditioned_model_for_cf = pyro.condition(pyro_model, data={'Pot':torch.tensor(3)})\n",
    "\n",
    "cf_posterior = Importance(conditioned_model_for_cf, num_samples=1000).run()\n",
    "marginal_cf = EmpiricalMarginal(cf_posterior, \"TP\")\n",
    "samples_cf = [marginal_cf().item() for _ in range(1000)]\n",
    "unique_cf, counts_cf = np.unique(samples_cf, return_counts=True)\n",
    "\n",
    "\n",
    "\n",
    "tp_samples = []\n",
    "\n",
    "for _ in range(1000):\n",
    "    trace_handler_1000 = pyro.poutine.trace(conditioned_model_for_cf)\n",
    "\n",
    "    trace = trace_handler_1000.get_trace()\n",
    "    N = trace.nodes[\"N\"]['value']\n",
    "    A = trace.nodes[\"A\"]['value']\n",
    "    P = trace.nodes[\"P\"]['value']\n",
    "    Y = trace.nodes[\"Y\"]['value']\n",
    "    Ovr = trace.nodes[\"Ovr\"]['value']\n",
    "    AC = trace.nodes[\"AC\"]['value']\n",
    "    OC = trace.nodes[\"OC\"]['value']\n",
    "    AL = trace.nodes[\"AL\"]['value']\n",
    "    OL = trace.nodes[\"OL\"]['value']\n",
    "    App = trace.nodes[\"App\"]['value']\n",
    "    \n",
    "    intervention_model_q1_1000 = pyro.do(pyro_model, data={'Pot': torch.tensor(2)})\n",
    "    \n",
    "    counterfact_model_q1_1000 = pyro.condition(intervention_model_q1_1000, data={'N': N, 'A':A, 'P': P, \n",
    "                                                                            \"Y\": Y, \"Ovr\": Ovr, \"AC\": AC, \n",
    "                                                                            \"OC\": OC, \"AL\": AL, \"OL\": OL, \n",
    "                                                                            \"App\": App})\n",
    "    \n",
    "    tp_samples.append(counterfact_model_q1_1000()['TP'])\n",
    "    \n",
    "unique_tp, counts_tp = np.unique(tp_samples, return_counts=True)"
   ]
  },
  {
   "cell_type": "code",
   "execution_count": 121,
   "metadata": {},
   "outputs": [
    {
     "data": {
      "text/plain": [
       "0.295"
      ]
     },
     "execution_count": 121,
     "metadata": {},
     "output_type": "execute_result"
    }
   ],
   "source": [
    "# P (Y = 60Mto20M | Pot = below65) = \n",
    "(counts_cf[1]) / 1000"
   ]
  },
  {
   "cell_type": "code",
   "execution_count": 122,
   "metadata": {},
   "outputs": [
    {
     "data": {
      "text/plain": [
       "0.377"
      ]
     },
     "execution_count": 122,
     "metadata": {},
     "output_type": "execute_result"
    }
   ],
   "source": [
    "# P (Y = 60Mto20M | do(Pot = above85)) = \n",
    "(counts_tp[1]) / 1000"
   ]
  },
  {
   "cell_type": "code",
   "execution_count": null,
   "metadata": {},
   "outputs": [],
   "source": []
  }
 ],
 "metadata": {
  "kernelspec": {
   "display_name": "Python 3.7.6 64-bit ('r': conda)",
   "language": "python",
   "name": "python37664bitrconda622a1a0eb60841c3b127d0a49c26e910"
  },
  "language_info": {
   "codemirror_mode": {
    "name": "ipython",
    "version": 3
   },
   "file_extension": ".py",
   "mimetype": "text/x-python",
   "name": "python",
   "nbconvert_exporter": "python",
   "pygments_lexer": "ipython3",
   "version": "3.7.6"
  }
 },
 "nbformat": 4,
 "nbformat_minor": 4
}
